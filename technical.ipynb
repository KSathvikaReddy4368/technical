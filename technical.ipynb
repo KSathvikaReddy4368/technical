{
 "cells": [
  {
   "cell_type": "code",
   "execution_count": 1,
   "metadata": {},
   "outputs": [
    {
     "name": "stdout",
     "output_type": "stream",
     "text": [
      "10\n",
      "20\n",
      "111\n"
     ]
    }
   ],
   "source": [
    "a=111\n",
    "def f1():\n",
    "    a=10\n",
    "    print(a)\n",
    "def f2():\n",
    "    a=20\n",
    "    print(a)\n",
    "def f3():\n",
    "    print(a)\n",
    "f1()\n",
    "f2()\n",
    "f3()"
   ]
  },
  {
   "cell_type": "code",
   "execution_count": 2,
   "metadata": {},
   "outputs": [
    {
     "name": "stdout",
     "output_type": "stream",
     "text": [
      "10\n",
      "20\n",
      "20\n"
     ]
    }
   ],
   "source": [
    "a=111\n",
    "def f1():\n",
    "    a=10\n",
    "    print(a)\n",
    "def f2():\n",
    "    global a \n",
    "    a=20\n",
    "    print(a)\n",
    "def f3():\n",
    "    print(a)\n",
    "f1()\n",
    "f2()\n",
    "f3()"
   ]
  },
  {
   "cell_type": "code",
   "execution_count": 3,
   "metadata": {},
   "outputs": [
    {
     "name": "stdout",
     "output_type": "stream",
     "text": [
      "10\n",
      "111\n",
      "20\n"
     ]
    }
   ],
   "source": [
    "a=111\n",
    "def f1():\n",
    "    a=10\n",
    "    print(a)\n",
    "def f2():\n",
    "    global a \n",
    "    a=20\n",
    "    print(a)\n",
    "def f3():\n",
    "    print(a)\n",
    "f1()\n",
    "f3()\n",
    "f2()"
   ]
  },
  {
   "cell_type": "code",
   "execution_count": 4,
   "metadata": {},
   "outputs": [
    {
     "name": "stdout",
     "output_type": "stream",
     "text": [
      "20\n",
      "10\n",
      "20\n"
     ]
    }
   ],
   "source": [
    "a=111\n",
    "def f1():\n",
    "    a=10\n",
    "    print(a)\n",
    "def f2():\n",
    "    global a \n",
    "    a=20\n",
    "    print(a)\n",
    "def f3():\n",
    "    print(a)\n",
    "f2()\n",
    "f1()\n",
    "f3()"
   ]
  },
  {
   "cell_type": "code",
   "execution_count": 5,
   "metadata": {},
   "outputs": [
    {
     "name": "stdout",
     "output_type": "stream",
     "text": [
      "20\n",
      "20\n",
      "10\n"
     ]
    }
   ],
   "source": [
    "a=111\n",
    "def f1():\n",
    "    a=10\n",
    "    print(a)\n",
    "def f2():\n",
    "    global a \n",
    "    a=20\n",
    "    print(a)\n",
    "def f3():\n",
    "    print(a)\n",
    "f2()\n",
    "f3()\n",
    "f1()"
   ]
  },
  {
   "cell_type": "code",
   "execution_count": 6,
   "metadata": {},
   "outputs": [
    {
     "name": "stdout",
     "output_type": "stream",
     "text": [
      "111\n",
      "10\n",
      "20\n"
     ]
    }
   ],
   "source": [
    "a=111\n",
    "def f1():\n",
    "    a=10\n",
    "    print(a)\n",
    "def f2():\n",
    "    global a \n",
    "    a=20\n",
    "    print(a)\n",
    "def f3():\n",
    "    print(a)\n",
    "f3()\n",
    "f1()\n",
    "f2()"
   ]
  },
  {
   "cell_type": "code",
   "execution_count": 7,
   "metadata": {},
   "outputs": [
    {
     "name": "stdout",
     "output_type": "stream",
     "text": [
      "111\n",
      "20\n",
      "10\n"
     ]
    }
   ],
   "source": [
    "a=111\n",
    "def f1():\n",
    "    a=10\n",
    "    print(a)\n",
    "def f2():\n",
    "    global a \n",
    "    a=20\n",
    "    print(a)\n",
    "def f3():\n",
    "    print(a)\n",
    "f3()\n",
    "f2()\n",
    "f1()"
   ]
  },
  {
   "cell_type": "code",
   "execution_count": 14,
   "metadata": {},
   "outputs": [
    {
     "name": "stdout",
     "output_type": "stream",
     "text": [
      "222\n",
      "111\n"
     ]
    }
   ],
   "source": [
    "a=111\n",
    "def fun1():\n",
    "    a=222\n",
    "    print(a)\n",
    "    print(globals()['a'])\n",
    "fun1()"
   ]
  },
  {
   "cell_type": "code",
   "execution_count": 15,
   "metadata": {},
   "outputs": [
    {
     "name": "stdout",
     "output_type": "stream",
     "text": [
      "hello\n",
      "hello\n",
      "None\n",
      "<function fun at 0x00B93580>\n"
     ]
    }
   ],
   "source": [
    "def fun():\n",
    "    print(\"hello\")\n",
    "fun()\n",
    "print(fun())\n",
    "print(fun)"
   ]
  },
  {
   "cell_type": "code",
   "execution_count": null,
   "metadata": {},
   "outputs": [],
   "source": []
  }
 ],
 "metadata": {
  "kernelspec": {
   "display_name": "Python 3",
   "language": "python",
   "name": "python3"
  },
  "language_info": {
   "codemirror_mode": {
    "name": "ipython",
    "version": 3
   },
   "file_extension": ".py",
   "mimetype": "text/x-python",
   "name": "python",
   "nbconvert_exporter": "python",
   "pygments_lexer": "ipython3",
   "version": "3.8.5"
  }
 },
 "nbformat": 4,
 "nbformat_minor": 4
}
